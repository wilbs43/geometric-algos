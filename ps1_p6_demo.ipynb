{
  "nbformat": 4,
  "nbformat_minor": 0,
  "metadata": {
    "colab": {
      "name": "ps1-p6-demo.ipynb",
      "provenance": [],
      "collapsed_sections": [],
      "authorship_tag": "ABX9TyOl8Qul63hrodoz4o65PVHP",
      "include_colab_link": true
    },
    "kernelspec": {
      "name": "python3",
      "display_name": "Python 3"
    }
  },
  "cells": [
    {
      "cell_type": "markdown",
      "metadata": {
        "id": "view-in-github",
        "colab_type": "text"
      },
      "source": [
        "<a href=\"https://colab.research.google.com/github/wilbs43/geometric-algos/blob/master/ps1_p6_demo.ipynb\" target=\"_parent\"><img src=\"https://colab.research.google.com/assets/colab-badge.svg\" alt=\"Open In Colab\"/></a>"
      ]
    },
    {
      "cell_type": "code",
      "metadata": {
        "id": "tsjWqhlmbihF",
        "colab_type": "code",
        "colab": {}
      },
      "source": [
        "from sympy import Point, Polygon, pi, symbols\n",
        "from sympy.plotting import plot\n",
        "import matplotlib.pyplot as plt\n",
        "import random, numpy as np"
      ],
      "execution_count": 0,
      "outputs": []
    },
    {
      "cell_type": "code",
      "metadata": {
        "id": "v4e4NOm8bqBh",
        "colab_type": "code",
        "colab": {
          "base_uri": "https://localhost:8080/",
          "height": 282
        },
        "outputId": "76efb8ee-3ffd-40dc-ccf9-0628af27ea11"
      },
      "source": [
        ""
      ],
      "execution_count": 42,
      "outputs": [
        {
          "output_type": "execute_result",
          "data": {
            "text/plain": [
              "[<matplotlib.lines.Line2D at 0x7f375c4310f0>]"
            ]
          },
          "metadata": {
            "tags": []
          },
          "execution_count": 42
        },
        {
          "output_type": "display_data",
          "data": {
            "image/png": "[encoded data removed]",
            "text/plain": [
              "<Figure size 432x288 with 1 Axes>"
            ]
          },
          "metadata": {
            "tags": []
          }
        }
      ]
    },
    {
      "cell_type": "code",
      "metadata": {
        "id": "KVxY32hncpn2",
        "colab_type": "code",
        "colab": {}
      },
      "source": [
        "\n",
        "def shortest_dist(pts):\n",
        "  if(len(pts) == 1):\n",
        "    return 9999, Point(0,0), Point(0,0)\n",
        "  x_coords = [pts[i].x for i in range(len(pts))]\n",
        "  x_coords.sort()\n",
        "  middle_ind = len(x_coords) // 2\n",
        "  x_med = x_coords[middle_ind]\n",
        "\n",
        "  left = []\n",
        "  right = []\n",
        "  for pt in pts:\n",
        "    if pt.x >= x_med:\n",
        "      right += [pt]\n",
        "    else: \n",
        "      left += [pt]\n",
        "\n",
        "  dist, pt1, pt2 = shortest_dist(left)\n",
        "  right_ans, temp1, temp2 = shortest_dist(right)\n",
        "  if right_ans < dist:\n",
        "    dist = right_ans\n",
        "    pt1 = temp1\n",
        "    pt2 = temp2\n",
        "\n",
        "  left_candidates = []\n",
        "  right_candidates = []\n",
        "  for pt in pts:\n",
        "    if pt.x > x_med - dist and pt.x < x_med:\n",
        "      left_candidates += [pt]\n",
        "    elif pt.x >= x_med and pt.x < x_med + dist:\n",
        "      right_candidates += [pt]\n",
        "  left_candidates = sorted(left_candidates, key=lambda k: k.y)\n",
        "  right_candidates = sorted(right_candidates, key=lambda k: k.y)\n",
        "\n",
        "  bottom_ind = 0\n",
        "  top_ind = 0\n",
        "  for left_pt in left_candidates:\n",
        "    while right_candidates[top_ind].y < left_pt.y + dist \\\n",
        "        and top_ind < len(right_candidates) - 1:\n",
        "      top_ind += 1\n",
        "    while right_candidates[bottom_ind].y < left_pt.y - dist \\\n",
        "        and bottom_ind < len(right_candidates) - 1:\n",
        "      bottom_ind += 1\n",
        "\n",
        "    for i in range(bottom_ind,top_ind + 1):\n",
        "      if left_pt.distance(right_candidates[i]) < dist:\n",
        "        dist = left_pt.distance(right_candidates[i])\n",
        "        pt1 = left_pt\n",
        "        pt2 = right_candidates[i]\n",
        "\n",
        "  return dist.evalf(), pt1.evalf(), pt2.evalf()\n",
        "\n"
      ],
      "execution_count": 0,
      "outputs": []
    },
    {
      "cell_type": "code",
      "metadata": {
        "id": "U38mOT14hwPm",
        "colab_type": "code",
        "colab": {
          "base_uri": "https://localhost:8080/",
          "height": 516
        },
        "outputId": "5ad6c01b-b91c-4237-c59d-9c26f1337904"
      },
      "source": [
        "num = 10\n",
        "point_list = [Point(random.uniform(-10,10),random.uniform(-10,10)) for i in range(num)]\n",
        "dist, pt1, pt2 = shortest_dist(point_list)\n",
        "plt.plot([point_list[i].x for i in range(num)], [point_list[i].y for i in range(num)], 'o')\n",
        "plt.plot([pt1.x,pt2.x],[pt1.y,pt2.y],'X')\n",
        "\n",
        "\n",
        "\n",
        "fig, ax = plt.subplots()\n",
        "ax.plot(np.random.rand(10))\n",
        "\n",
        "def onclick(event):\n",
        "    print('%s click: button=%d, x=%d, y=%d, xdata=%f, ydata=%f' %\n",
        "          ('double' if event.dblclick else 'single', event.button,\n",
        "           event.x, event.y, event.xdata, event.ydata))\n",
        "\n",
        "cid = fig.canvas.mpl_connect('button_press_event', onclick)"
      ],
      "execution_count": 80,
      "outputs": [
        {
          "output_type": "display_data",
          "data": {
            "image/png": "[encoded data removed]",
            "text/plain": [
              "<Figure size 432x288 with 1 Axes>"
            ]
          },
          "metadata": {
            "tags": []
          }
        },
        {
          "output_type": "display_data",
          "data": {
            "image/png": "[encoded data removed]",
            "text/plain": [
              "<Figure size 432x288 with 1 Axes>"
            ]
          },
          "metadata": {
            "tags": []
          }
        }
      ]
    },
    {
      "cell_type": "code",
      "metadata": {
        "id": "Ooo7xvlZnbxT",
        "colab_type": "code",
        "colab": {}
      },
      "source": [
        ""
      ],
      "execution_count": 0,
      "outputs": []
    }
  ]
}