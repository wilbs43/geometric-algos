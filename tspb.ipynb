{
  "nbformat": 4,
  "nbformat_minor": 0,
  "metadata": {
    "colab": {
      "name": "tspb.ipynb",
      "provenance": [],
      "collapsed_sections": [],
      "toc_visible": true,
      "mount_file_id": "1OVOXSLs4Q3KSSUC-fXW-3DUx3DS5Rmc6",
      "authorship_tag": "ABX9TyMvRtgnht0p6U2rVMAB0fzW",
      "include_colab_link": true
    },
    "kernelspec": {
      "name": "python3",
      "display_name": "Python 3"
    }
  },
  "cells": [
    {
      "cell_type": "markdown",
      "metadata": {
        "id": "view-in-github",
        "colab_type": "text"
      },
      "source": [
        "<a href=\"https://colab.research.google.com/github/wilbs43/geometric-algos/blob/master/tspb.ipynb\" target=\"_parent\"><img src=\"https://colab.research.google.com/assets/colab-badge.svg\" alt=\"Open In Colab\"/></a>"
      ]
    },
    {
      "cell_type": "markdown",
      "metadata": {
        "id": "awOYPFJG_XH6",
        "colab_type": "text"
      },
      "source": [
        "# Traveling Salesman Problem with Blockades\n",
        "\n",
        "Wilbur Li\n",
        "\n",
        "May 2020 for 6.850, Geometric Algorithms\n",
        "\n",
        "MIT Class of 2020"
      ]
    },
    {
      "cell_type": "code",
      "metadata": {
        "id": "RmfWO_8URXn8",
        "colab_type": "code",
        "colab": {}
      },
      "source": [
        "from sympy import Point, Polygon, pi, symbols\n",
        "from sympy.plotting import plot\n",
        "import matplotlib.pyplot as plt\n",
        "import random, numpy as np\n",
        "from shapely.geometry import LineString\n",
        "import time "
      ],
      "execution_count": 0,
      "outputs": []
    },
    {
      "cell_type": "markdown",
      "metadata": {
        "id": "L6nb02J3eKuj",
        "colab_type": "text"
      },
      "source": [
        "# A Star"
      ]
    },
    {
      "cell_type": "code",
      "metadata": {
        "id": "ipnm8IBDeHOe",
        "colab_type": "code",
        "colab": {}
      },
      "source": [
        "## A* implementation from \n",
        "# adapted from https://www.redblobgames.com/pathfinding/a-star/implementation.html\n",
        "\n",
        "class EdgeGraph:\n",
        "  def __init__(self):\n",
        "    self.E = {}\n",
        "    self.V = {}\n",
        "  def neighbors(self, id):\n",
        "    return self.E[id]\n",
        "  def cost(self,a,b):\n",
        "    # print(11,self.V)\n",
        "    (x1, y1) = self.V[a] \n",
        "    (x2, y2) = self.V[b]\n",
        "    return ((x1 - x2)**2 + (y1 - y2)**2)**0.5\n",
        "  def heuristic(self,a, b):\n",
        "    (x1, y1) = self.V[a] \n",
        "    (x2, y2) = self.V[b]\n",
        "    return ((x1 - x2)**2 + (y1 - y2)**2)**0.5\n",
        "\n",
        "import heapq\n",
        "class PriorityQueue:\n",
        "    def __init__(self):\n",
        "        self.elements = []\n",
        "    def empty(self):\n",
        "        return len(self.elements) == 0\n",
        "    def put(self, item, priority):\n",
        "        heapq.heappush(self.elements, (priority, item))\n",
        "    def get(self):\n",
        "        return heapq.heappop(self.elements)[1]\n",
        "\n",
        "def a_star_search(graph, start, goal):\n",
        "    frontier = PriorityQueue()\n",
        "    frontier.put(start, 0)\n",
        "    came_from = {}\n",
        "    cost_so_far = {}\n",
        "    came_from[start] = None\n",
        "    cost_so_far[start] = 0\n",
        "    \n",
        "    while not frontier.empty():\n",
        "        current = frontier.get()\n",
        "        if current == goal:\n",
        "            break\n",
        "        for next in graph.neighbors(current):\n",
        "            new_cost = cost_so_far[current] + graph.cost(current, next)\n",
        "            if next not in cost_so_far or new_cost < cost_so_far[next]:\n",
        "                cost_so_far[next] = new_cost\n",
        "                priority = new_cost + graph.heuristic(goal, next)\n",
        "                frontier.put(next, priority)\n",
        "                came_from[next] = current\n",
        "    return came_from, cost_so_far\n",
        "\n",
        "def reconstruct_path(came_from, start, goal):\n",
        "    current = goal\n",
        "    path = []\n",
        "    while current != start:\n",
        "        path.append(current)\n",
        "        current = came_from[current]\n",
        "    path.append(start) # optional\n",
        "    path.reverse() # optional\n",
        "    return path\n",
        "\n"
      ],
      "execution_count": 0,
      "outputs": []
    },
    {
      "cell_type": "markdown",
      "metadata": {
        "id": "m9vZ2fFNxQB8",
        "colab_type": "text"
      },
      "source": [
        "# Blockaded Euclidean distance\n"
      ]
    },
    {
      "cell_type": "code",
      "metadata": {
        "id": "DOzSNe49um-i",
        "colab_type": "code",
        "outputId": "5a69a92f-2c77-46d1-fed3-ee763a684f03",
        "colab": {
          "base_uri": "https://localhost:8080/",
          "height": 0
        }
      },
      "source": [
        "## Find Euclidean distance given segment blockades\n",
        "\n",
        "def create_blockade_base_graph(blockades):\n",
        "  '''\n",
        "  blockades : dict, blockades as line segments\n",
        "  ret base_map : all valid edges between blockade endpoints that\n",
        "  '''\n",
        "  b_endpts = dict()\n",
        "  i = 2\n",
        "  for id,blockade in blockades.items():\n",
        "    b_endpts[i] = blockade[0]\n",
        "    b_endpts[i+1] = blockade[1]\n",
        "    i += 2\n",
        "  \n",
        "  base_map = {id:[] for id in b_endpts.keys()}\n",
        "  for id in b_endpts.keys():\n",
        "    for jd in b_endpts.keys():\n",
        "      if id >= jd: continue\n",
        "      edge_candidate = [b_endpts[id],b_endpts[jd]]\n",
        "      if not check_intersect(edge_candidate, blockades):\n",
        "        # print(31,'edge approved',edge_candidate)\n",
        "        base_map[id] += [jd]\n",
        "        base_map[jd] += [id]\n",
        "  return base_map\n",
        "\n",
        "def check_intersect(edge, segments):\n",
        "  '''\n",
        "  edge : tuple, (begin, end)\n",
        "  segments : dict, with number:(begin,end)\n",
        "  ret : bool, whether edge crosses any segment from segments\n",
        "  '''\n",
        "  edge_ls = LineString(edge)\n",
        "  clear = False;\n",
        "  for id,pair in segments.items():\n",
        "    seg_ls = LineString(pair)\n",
        "    clear |= edge_ls.crosses(seg_ls)\n",
        "  return clear\n",
        "\n",
        "def create_graph(start, end, segments,blockade_base_graph):\n",
        "  '''\n",
        "  start : start pt\n",
        "  end : stop pt\n",
        "  segments : segments not to be crossed\n",
        "  ret g : all valid edges created from the start, stop, and segments endpoints\n",
        "  ret v : all vertices and their coordinates\n",
        "  '''\n",
        "  # all_points = {0:start, 1:end}\n",
        "  all_points = dict()\n",
        "  all_points[0] = start\n",
        "  all_points[1] = end\n",
        "  i = 2\n",
        "  for id,segment in segments.items():\n",
        "    all_points[i] = segment[0]\n",
        "    all_points[i+1] = segment[1]\n",
        "    i+=2\n",
        "  graph = {0:[],1:[]}\n",
        "\n",
        "  for id,val in blockade_base_graph.items():\n",
        "    graph[id] = val.copy()\n",
        "  \n",
        "  for id in [0,1]:\n",
        "    for jd in all_points.keys():\n",
        "      if id >= jd: continue\n",
        "      edge_candidate = [all_points[id],all_points[jd]]\n",
        "      if not check_intersect(edge_candidate, segments):\n",
        "        graph[id] += [jd]\n",
        "        graph[jd] += [id]\n",
        "  return graph, all_points\n",
        "\n",
        "def find_path(start,end,segments,blockade_base_graph):\n",
        "  ''' Use A* on graph to find shortest path\n",
        "  segments : dict, blocking segments, e.g. {0:[(3,5),(4,3)],1:[(4,6),(6,0)],2:[(1,4),(3,2)],3:[(1,6),(2,4.5)]}\n",
        "  start: tuple, start point e.g. (0,0)\n",
        "  end: tuple, e.g. (6,6)\n",
        "  '''\n",
        "  e,v = create_graph(start,end,segments,blockade_base_graph)\n",
        "  eg = EdgeGraph()\n",
        "  eg.E = e\n",
        "  eg.V = v\n",
        "  came_from, cost_so_far = a_star_search(eg,0,1)\n",
        "  path = reconstruct_path(came_from,0,1)\n",
        "  return path, cost_so_far, v, e\n",
        "\n",
        "## test code\n",
        "print(check_intersect([(1,2),(4,6)],{1:[(1,4),(5,1)]}))  # True\n",
        "\n",
        "blockade_sample = {0: [(2.16825572165507, 0.7172464442297157), (2.4423080758459434, 1.9933474760092549)], 1: [(0.11681784970852171, 1.5931309879727589), (0.3015098078129732, 2.1314161164733)]}\n",
        "bg = create_blockade_base_graph(blockade_sample)\n",
        "print('blockade_sample',blockade_sample,'\\nBBG', bg)\n",
        "print('create graph',create_graph((0,0),(6,6),blockade_sample,bg))\n",
        "\n",
        "start = (0,0)\n",
        "end = (4.5,4)\n",
        "path, total_dist,v,e = find_path(start,end,blockade_sample,bg)\n",
        "print(path,total_dist[1])\n",
        "\n",
        "\n",
        "## plot\n",
        "# path\n",
        "for i in range(len(path)-1):\n",
        "  plt.plot([v[path[i]][0],v[path[i+1]][0]],[v[path[i]][1],v[path[i+1]][1]],color='blue')\n",
        "# blockades\n",
        "for id,pair in blockade_sample.items():\n",
        "  plt.plot([pair[0][0],pair[1][0]],[pair[0][1],pair[1][1]],color='red')\n",
        "plt.scatter([start[0],end[0]],[start[1],end[1]])"
      ],
      "execution_count": 332,
      "outputs": [
        {
          "output_type": "stream",
          "text": [
            "True\n",
            "blockade_sample {0: [(2.16825572165507, 0.7172464442297157), (2.4423080758459434, 1.9933474760092549)], 1: [(0.11681784970852171, 1.5931309879727589), (0.3015098078129732, 2.1314161164733)]} \n",
            "BBG {2: [3, 4, 5], 3: [2, 4, 5], 4: [2, 3, 5], 5: [2, 3, 4]}\n",
            "create graph ({0: [1, 2, 3, 4, 5], 1: [0, 2, 3, 4, 5], 2: [3, 4, 5, 0, 1], 3: [2, 4, 5, 0, 1], 4: [2, 3, 5, 0, 1], 5: [2, 3, 4, 0, 1]}, {0: (0, 0), 1: (6, 6), 2: (2.16825572165507, 0.7172464442297157), 3: (2.4423080758459434, 1.9933474760092549), 4: (0.11681784970852171, 1.5931309879727589), 5: (0.3015098078129732, 2.1314161164733)})\n",
            "[0, 1] 6.020797289396148\n"
          ],
          "name": "stdout"
        },
        {
          "output_type": "execute_result",
          "data": {
            "text/plain": [
              "<matplotlib.collections.PathCollection at 0x7fa7bd18f128>"
            ]
          },
          "metadata": {
            "tags": []
          },
          "execution_count": 332
        },
        {
          "output_type": "display_data",
          "data": {
            "image/png": "[encoded data removed]",
            "text/plain": [
              "<Figure size 432x288 with 1 Axes>"
            ]
          },
          "metadata": {
            "tags": [],
            "needs_background": "light"
          }
        }
      ]
    },
    {
      "cell_type": "markdown",
      "metadata": {
        "id": "fOa5z2Bj00Sl",
        "colab_type": "text"
      },
      "source": [
        "# Christophides Algorithm"
      ]
    },
    {
      "cell_type": "code",
      "metadata": {
        "id": "ys__uUfk1Jlt",
        "colab_type": "code",
        "colab": {}
      },
      "source": [
        "## Christofides Algorithm\n",
        "# will approximate ideal answer within 50%\n",
        "# adapted from https://github.com/Retsediv/ChristofidesAlgorithm\n",
        "\n",
        "def tsp(data,usingBlockades=True):\n",
        "    # build a graph\n",
        "    G = build_graph(data,usingBlockades)\n",
        "    print(\"Graph: \", G)\n",
        "\n",
        "    # build a minimum spanning tree\n",
        "    MSTree = minimum_spanning_tree(G)\n",
        "    print(\"MSTree: \", MSTree)\n",
        "\n",
        "    # find odd vertexes\n",
        "    odd_vertexes = find_odd_vertexes(MSTree)\n",
        "    print(\"Odd vertexes in MSTree: \", odd_vertexes)\n",
        "\n",
        "    # add minimum weight matching edges to MST\n",
        "    minimum_weight_matching(MSTree, G, odd_vertexes)\n",
        "    print(\"Minimum weight matching: \", MSTree)\n",
        "\n",
        "    # find an eulerian tour\n",
        "    eulerian_tour = find_eulerian_tour(MSTree, G)\n",
        "\n",
        "    print(\"Eulerian tour: \", eulerian_tour)\n",
        "\n",
        "    current = eulerian_tour[0]\n",
        "    path = [current]\n",
        "    visited = [False] * len(eulerian_tour)\n",
        "    visited[0] = True\n",
        "\n",
        "    length = 0\n",
        "\n",
        "    for v in eulerian_tour[1:]:\n",
        "        if not visited[v]:\n",
        "            path.append(v)\n",
        "            visited[v] = True\n",
        "\n",
        "            length += G[current][v]\n",
        "            current = v\n",
        "\n",
        "    path.append(path[0])\n",
        "\n",
        "    print(\"Result path: \", path)\n",
        "    print(\"Result length of the path: \", length)\n",
        "\n",
        "    return length, path\n",
        "\n",
        "\n",
        "def get_length(x1, y1, x2, y2,usingBlockades=True):\n",
        "    if not usingBlockades:\n",
        "      return ((x1 - x2) ** 2 + (y1 - y2) ** 2) ** (1.0 / 2.0)\n",
        "    dist,path = DIST_LOOKUP[hash_pts((x1,y1),(x2,y2))]\n",
        "    return dist\n",
        "    \n",
        "\n",
        "def build_graph(data,usingBlockades):\n",
        "    graph = {}\n",
        "    for this in range(len(data)):\n",
        "        for another_point in range(len(data)):\n",
        "            if this != another_point:\n",
        "                if this not in graph:\n",
        "                    graph[this] = {}\n",
        "\n",
        "                graph[this][another_point] = get_length(data[this][0], data[this][1], data[another_point][0],\n",
        "                                                        data[another_point][1],usingBlockades)\n",
        "\n",
        "    return graph\n",
        "\n",
        "\n",
        "class UnionFind:\n",
        "    def __init__(self):\n",
        "        self.weights = {}\n",
        "        self.parents = {}\n",
        "\n",
        "    def __getitem__(self, object):\n",
        "        if object not in self.parents:\n",
        "            self.parents[object] = object\n",
        "            self.weights[object] = 1\n",
        "            return object\n",
        "\n",
        "        # find path of objects leading to the root\n",
        "        path = [object]\n",
        "        root = self.parents[object]\n",
        "        while root != path[-1]:\n",
        "            path.append(root)\n",
        "            root = self.parents[root]\n",
        "\n",
        "        # compress the path and return\n",
        "        for ancestor in path:\n",
        "            self.parents[ancestor] = root\n",
        "        return root\n",
        "\n",
        "    def __iter__(self):\n",
        "        return iter(self.parents)\n",
        "\n",
        "    def union(self, *objects):\n",
        "        roots = [self[x] for x in objects]\n",
        "        heaviest = max([(self.weights[r], r) for r in roots])[1]\n",
        "        for r in roots:\n",
        "            if r != heaviest:\n",
        "                self.weights[heaviest] += self.weights[r]\n",
        "                self.parents[r] = heaviest\n",
        "\n",
        "\n",
        "def minimum_spanning_tree(G):\n",
        "    tree = []\n",
        "    subtrees = UnionFind()\n",
        "    for W, u, v in sorted((G[u][v], u, v) for u in G for v in G[u]):\n",
        "        if subtrees[u] != subtrees[v]:\n",
        "            tree.append((u, v, W))\n",
        "            subtrees.union(u, v)\n",
        "\n",
        "    return tree\n",
        "\n",
        "\n",
        "def find_odd_vertexes(MST):\n",
        "    tmp_g = {}\n",
        "    vertexes = []\n",
        "    for edge in MST:\n",
        "        if edge[0] not in tmp_g:\n",
        "            tmp_g[edge[0]] = 0\n",
        "\n",
        "        if edge[1] not in tmp_g:\n",
        "            tmp_g[edge[1]] = 0\n",
        "\n",
        "        tmp_g[edge[0]] += 1\n",
        "        tmp_g[edge[1]] += 1\n",
        "\n",
        "    for vertex in tmp_g:\n",
        "        if tmp_g[vertex] % 2 == 1:\n",
        "            vertexes.append(vertex)\n",
        "\n",
        "    return vertexes\n",
        "\n",
        "\n",
        "def minimum_weight_matching(MST, G, odd_vert):\n",
        "    import random\n",
        "    random.shuffle(odd_vert)\n",
        "\n",
        "    while odd_vert:\n",
        "        v = odd_vert.pop()\n",
        "        length = float(\"inf\")\n",
        "        u = 1\n",
        "        closest = 0\n",
        "        for u in odd_vert:\n",
        "            if v != u and G[v][u] < length:\n",
        "                length = G[v][u]\n",
        "                closest = u\n",
        "\n",
        "        MST.append((v, closest, length))\n",
        "        odd_vert.remove(closest)\n",
        "\n",
        "\n",
        "def find_eulerian_tour(MatchedMSTree, G):\n",
        "    # find neigbours\n",
        "    neighbours = {}\n",
        "    for edge in MatchedMSTree:\n",
        "        if edge[0] not in neighbours:\n",
        "            neighbours[edge[0]] = []\n",
        "\n",
        "        if edge[1] not in neighbours:\n",
        "            neighbours[edge[1]] = []\n",
        "\n",
        "        neighbours[edge[0]].append(edge[1])\n",
        "        neighbours[edge[1]].append(edge[0])\n",
        "\n",
        "    # print(\"Neighbours: \", neighbours)\n",
        "\n",
        "    # finds the hamiltonian circuit\n",
        "    start_vertex = MatchedMSTree[0][0]\n",
        "    EP = [neighbours[start_vertex][0]]\n",
        "\n",
        "    while len(MatchedMSTree) > 0:\n",
        "        for i, v in enumerate(EP):\n",
        "            if len(neighbours[v]) > 0:\n",
        "                break\n",
        "\n",
        "        while len(neighbours[v]) > 0:\n",
        "            w = neighbours[v][0]\n",
        "\n",
        "            remove_edge_from_matchedMST(MatchedMSTree, v, w)\n",
        "\n",
        "            del neighbours[v][(neighbours[v].index(w))]\n",
        "            del neighbours[w][(neighbours[w].index(v))]\n",
        "\n",
        "            i += 1\n",
        "            EP.insert(i, w)\n",
        "\n",
        "            v = w\n",
        "\n",
        "    return EP\n",
        "\n",
        "\n",
        "def remove_edge_from_matchedMST(MatchedMST, v1, v2):\n",
        "\n",
        "    for i, item in enumerate(MatchedMST):\n",
        "        if (item[0] == v2 and item[1] == v1) or (item[0] == v1 and item[1] == v2):\n",
        "            del MatchedMST[i]\n",
        "\n",
        "    return MatchedMST"
      ],
      "execution_count": 0,
      "outputs": []
    },
    {
      "cell_type": "markdown",
      "metadata": {
        "id": "lgGyMzCD7UgG",
        "colab_type": "text"
      },
      "source": [
        "# Main: TSP with Blockades"
      ]
    },
    {
      "cell_type": "markdown",
      "metadata": {
        "id": "nUSHGrdnQz2e",
        "colab_type": "text"
      },
      "source": [
        "Features\n",
        "*   Generates random set of checkpoints and random set of blockades\n",
        "*   Runs TSPB (Christofides TSP with Blockades) on this set of checkpoints.\n",
        "\n",
        "In the plot\n",
        "*   Light blue lines indicate the sequence of travel through the TSP tour\n",
        "*   Orange lines indicate route that is actually traveled to travel around every blockade\n",
        "\n",
        "\n",
        "\n",
        "Known issues\n",
        "*   Christofides TSP solution sometimes yields paths that visit the same vertex twice. Further, the first point in the point list, (0,0) is not included in the tour. \n",
        "*   Sometimes randomly generated blockades will fence off a region completely. If a checkpoint is assigned in the interior of this inaccessible region, the distance-finding A* algorithm will fail\n",
        "\n"
      ]
    },
    {
      "cell_type": "code",
      "metadata": {
        "id": "4k_iTJ6YakNK",
        "colab_type": "code",
        "colab": {}
      },
      "source": [
        "## create field of points \n",
        "base_loc = [0,0]      # location of the rover base\n",
        "map_side = 6        # length of farthest dist from rover in either direction\n",
        "\n",
        "# create checkpoints\n",
        "num_checkpoints = 20  # num checkpoints\n",
        "point_list = [(0,0)]\n",
        "point_list += [[random.uniform(0,map_side),random.uniform(0,map_side)] for i in range(num_checkpoints)]\n",
        "\n",
        "# create blockades\n",
        "num_blockades = 10  # num blockades\n",
        "blockades4 = {0:[(3,5),(4,3)],1:[(4,6),(6,0)],2:[(1,4),(3,2)],3:[(1,6),(2,4.5)]}\n",
        "blockades = dict()\n",
        "for i in range(num_blockades):\n",
        "  blockades[i]=[(random.uniform(0,map_side),random.uniform(0,map_side)),(random.uniform(0,map_side),random.uniform(0,map_side))]\n",
        "BLOCKADES = blockades  # all blockades\n",
        "\n",
        "# prepare hashing for distance lookup\n",
        "HASH_BASE = 13\n",
        "def hash_pts(point1,point2):\n",
        "  ''' Hashing protocol for distance lookup table\n",
        "  '''\n",
        "  return round(HASH_BASE*point1[0] - point1[1] + 2*HASH_BASE*point2[0] + 2*point2[1],3)"
      ],
      "execution_count": 0,
      "outputs": []
    },
    {
      "cell_type": "code",
      "metadata": {
        "id": "XOyafxP9gCuc",
        "colab_type": "code",
        "outputId": "fcfaba33-dbf5-4cd8-eeb3-1ec380534529",
        "colab": {
          "base_uri": "https://localhost:8080/",
          "height": 173
        }
      },
      "source": [
        "## compute TSPB tours\n",
        "# precompute distances between checkpoints\n",
        "time_start = time.clock()\n",
        "DIST_LOOKUP = {}\n",
        "BBG = create_blockade_base_graph(BLOCKADES)\n",
        "BLOCKADES_V = {}  # to track all blockade endpoints. vals useless for keys 0,1\n",
        "for i in range(len(point_list)):\n",
        "  for j in range(i+1,len(point_list)):\n",
        "    if i == j: continue\n",
        "    global DIST_LOOKUP,V\n",
        "    point1 = point_list[i]\n",
        "    point2 = point_list[j]\n",
        "    path, total_dist, v, e = find_path(point1,point2,BLOCKADES,BBG)\n",
        "    DIST_LOOKUP[hash_pts(point1,point2)] = (total_dist[1],path)\n",
        "    rp = path.copy()\n",
        "    rp.reverse()\n",
        "    rp[0] = 0\n",
        "    rp[-1] = 1\n",
        "    DIST_LOOKUP[hash_pts(point2,point1)] = (total_dist[1],rp)\n",
        "    BLOCKADES_V = v\n",
        "\n",
        "# call TSPB\n",
        "length, path = tsp(point_list,usingBlockades=True)\n",
        "\n",
        "time_elapsed = (time.clock() - time_start)\n",
        "print('Time taken',time_elapsed)"
      ],
      "execution_count": 335,
      "outputs": [
        {
          "output_type": "stream",
          "text": [
            "Graph:  {0: {1: 3.1114036973689827, 2: 8.354657171826615, 3: 4.846082177661254, 4: 9.452172126248557, 5: 0.3026190996676207, 6: 9.407413706005304, 7: 4.648160824693784, 8: 4.088142513092093, 9: 8.304888284090922, 10: 6.730608034844094, 11: 2.4071282801596774, 12: 7.220313844933599, 13: 9.415849492350137, 14: 5.896167401992971, 15: 8.351182177743325, 16: 5.39785588998653, 17: 4.438576083296614, 18: 0.22355369206733894, 19: 4.7529687578582225, 20: 0.5532414369587756}, 1: {0: 3.1114036973689827, 2: 5.569658723499624, 3: 2.246959304119173, 4: 7.646234912578464, 5: 2.817049063829021, 6: 6.622415257678311, 7: 1.7931483310738705, 8: 1.2331300194721782, 9: 7.357269424180944, 10: 3.9456095865171013, 11: 0.7052641236609479, 12: 4.435315396606606, 13: 6.630851044023146, 14: 8.235280351494788, 15: 8.03617160749918, 16: 2.612857441659538, 17: 6.773268225446028, 18: 2.9301228498209997, 19: 1.9037281099494692, 20: 2.847713242699641}, 2: {0: 8.354657171826615, 1: 5.569658723499624, 3: 3.786498040190271, 4: 2.106179859601429, 5: 8.08909049570321, 6: 2.3609876126061646, 7: 4.429040169121771, 8: 4.966042391064438, 9: 1.8458189959598295, 10: 2.1366098767050157, 11: 6.114037830619243, 12: 1.6546355738139948, 13: 2.349173824251121, 14: 4.220629635669773, 15: 2.7558117704718432, 16: 2.9604844752909183, 17: 5.4197421022314405, 18: 8.212865914999053, 19: 3.790436982320407, 20: 8.152686855153013}, 3: {0: 4.846082177661254, 1: 2.246959304119173, 2: 3.786498040190271, 4: 5.863074229269111, 5: 4.597166230265127, 6: 4.839254574368959, 7: 1.5526906210046068, 8: 1.8690316193218643, 9: 5.5741087408715915, 10: 2.162448903207749, 11: 2.7558529499683977, 12: 2.6521547132972545, 13: 4.847690360713793, 14: 8.005819494873666, 15: 6.253010924189827, 16: 0.8296967583501855, 17: 8.602819697324305, 18: 4.722935603474343, 19: 0.9132820720672871, 20: 4.677264714577918}, 4: {0: 9.452172126248557, 1: 7.646234912578464, 2: 2.106179859601429, 3: 5.863074229269111, 5: 9.275901257661546, 6: 4.330584520877255, 7: 6.505616358200612, 8: 7.0426185801432775, 9: 2.212199195335435, 10: 4.213186065783855, 11: 8.190614019698085, 12: 3.7385150288870177, 13: 4.313419291592976, 14: 3.819279459084412, 15: 4.169461390160755, 16: 5.037060664369758, 17: 5.018391925646078, 18: 9.262265171654086, 19: 5.867013171399248, 20: 8.964703662382176}, 5: {0: 0.3026190996676207, 1: 2.817049063829021, 2: 8.08909049570321, 3: 4.597166230265127, 4: 9.275901257661546, 6: 9.141847029881898, 7: 4.3675063092019615, 8: 3.807487997600269, 9: 8.12861741550391, 10: 6.465041358720688, 11: 2.1120304729749613, 12: 6.954747168810194, 13: 9.150282816226731, 14: 5.71989653340596, 15: 8.174911309156315, 16: 5.132289213863125, 17: 4.25875548178456, 18: 0.12632389230045665, 19: 4.475459996179143, 20: 0.31203470709052905}, 6: {0: 9.407413706005304, 1: 6.622415257678311, 2: 2.3609876126061646, 3: 4.839254574368959, 4: 4.330584520877255, 5: 9.141847029881898, 7: 5.481796703300459, 8: 6.018798925243125, 9: 2.8970321643537686, 10: 2.728724972347104, 11: 7.166794364797931, 12: 2.1871882375452043, 13: 0.027879527371557394, 14: 5.566863859307504, 15: 3.0233035713498353, 16: 4.042049518092252, 17: 6.76597632586917, 18: 9.26562244917774, 19: 4.843193516499095, 20: 9.205443389331702}, 7: {0: 4.648160824693784, 1: 1.7931483310738705, 2: 4.429040169121771, 3: 1.5526906210046068, 4: 6.505616358200612, 5: 4.3675063092019615, 6: 5.481796703300459, 8: 0.7597059934540087, 9: 6.216650869803091, 10: 2.8049910321392493, 11: 2.337527438193491, 12: 3.294696842228755, 13: 5.490232489645294, 14: 8.648361623805167, 15: 6.8955530531213265, 16: 1.4722388872816858, 17: 8.342099234596057, 18: 4.487760534521728, 19: 0.6605025597924208, 20: 4.41654425184967}, 8: {0: 4.088142513092093, 1: 1.2331300194721782, 2: 4.966042391064438, 3: 1.8690316193218643, 4: 7.0426185801432775, 5: 3.807487997600269, 6: 6.018798925243125, 7: 0.7597059934540087, 9: 6.753653091745758, 10: 3.3419932540819155, 11: 1.7775091265917984, 12: 3.8316990641714206, 13: 6.027234711587959, 14: 9.185363845747831, 15: 7.432555275063993, 16: 2.0092411092243516, 17: 7.782080922994365, 18: 3.9277422229200356, 19: 1.1884424312581716, 20: 3.8565259402479777}, 9: {0: 8.304888284090922, 1: 7.357269424180944, 2: 1.8458189959598295, 3: 5.5741087408715915, 4: 2.212199195335435, 5: 8.12861741550391, 6: 2.8970321643537686, 7: 6.216650869803091, 8: 6.753653091745758, 10: 3.913415362352381, 11: 7.901648531300563, 12: 3.365043085086446, 13: 2.8733341326955353, 14: 2.6719956169267762, 15: 2.5510987646549, 16: 4.748095175972239, 17: 3.8711080834884437, 18: 8.114981329496452, 19: 5.578047683001728, 20: 7.817419820224541}, 10: {0: 6.730608034844094, 1: 3.9456095865171013, 2: 2.1366098767050157, 3: 2.162448903207749, 4: 4.213186065783855, 5: 6.465041358720688, 6: 2.728724972347104, 7: 2.8049910321392493, 8: 3.3419932540819155, 9: 3.913415362352381, 11: 4.489988693636722, 12: 0.6063290575397319, 13: 2.739949680456849, 14: 6.355931331388411, 15: 4.506494987399689, 16: 1.3874936063298766, 17: 7.555043797950077, 18: 6.588816778016532, 19: 2.166387845337885, 20: 6.528637718170492}, 11: {0: 2.4071282801596774, 1: 0.7052641236609479, 2: 6.114037830619243, 3: 2.7558529499683977, 4: 8.190614019698085, 5: 2.1120304729749613, 6: 7.166794364797931, 7: 2.337527438193491, 8: 1.7775091265917984, 9: 7.901648531300563, 10: 4.489988693636722, 12: 4.979694503726227, 13: 7.175230151142766, 14: 7.530136941180064, 15: 8.580550714618798, 16: 3.1572365487791583, 17: 6.068124815131304, 18: 2.2248636138116775, 19: 2.448107217069089, 20: 2.142569832384916}, 12: {0: 7.220313844933599, 1: 4.435315396606606, 2: 1.6546355738139948, 3: 2.6521547132972545, 4: 3.7385150288870177, 5: 6.954747168810194, 6: 2.1871882375452043, 7: 3.294696842228755, 8: 3.8316990641714206, 9: 3.365043085086446, 10: 0.6063290575397319, 11: 4.979694503726227, 13: 2.195535970654297, 14: 5.858652597662526, 15: 3.9168178139819774, 16: 1.8560399964978618, 17: 7.057765064224192, 18: 7.078522588106037, 19: 2.6560936554273904, 20: 7.018343528259997}, 13: {0: 9.415849492350137, 1: 6.630851044023146, 2: 2.349173824251121, 3: 4.847690360713793, 4: 4.313419291592976, 5: 9.150282816226731, 6: 0.027879527371557394, 7: 5.490232489645294, 8: 6.027234711587959, 9: 2.8733341326955353, 10: 2.739949680456849, 11: 7.175230151142766, 12: 2.195535970654297, 14: 5.543165827649271, 15: 2.9960439582292544, 16: 4.0497295576946195, 17: 6.742278294210937, 18: 9.274058235522576, 19: 4.8516293028439295, 20: 9.213879175676535}, 14: {0: 5.896167401992971, 1: 8.235280351494788, 2: 4.220629635669773, 3: 8.005819494873666, 4: 3.819279459084412, 5: 5.71989653340596, 6: 5.566863859307504, 7: 8.648361623805167, 8: 9.185363845747831, 9: 2.6719956169267762, 10: 6.355931331388411, 11: 7.530136941180064, 12: 5.858652597662526, 13: 5.543165827649271, 15: 2.8962123959534876, 16: 7.1798059299743135, 17: 1.4623872013904924, 18: 5.706260447398501, 19: 8.009758437003802, 20: 5.408698938126589}, 15: {0: 8.351182177743325, 1: 8.03617160749918, 2: 2.7558117704718432, 3: 6.253010924189827, 4: 4.169461390160755, 5: 8.174911309156315, 6: 3.0233035713498353, 7: 6.8955530531213265, 8: 7.432555275063993, 9: 2.5510987646549, 10: 4.506494987399689, 11: 8.580550714618798, 12: 3.9168178139819774, 13: 2.9960439582292544, 14: 2.8962123959534876, 16: 5.426997359290474, 17: 3.9174019771408477, 18: 8.161275223148856, 19: 6.256949866319963, 20: 7.863713713876945}, 16: {0: 5.39785588998653, 1: 2.612857441659538, 2: 2.9604844752909183, 3: 0.8296967583501855, 4: 5.037060664369758, 5: 5.132289213863125, 6: 4.042049518092252, 7: 1.4722388872816858, 8: 2.0092411092243516, 9: 4.748095175972239, 10: 1.3874936063298766, 11: 3.1572365487791583, 12: 1.8560399964978618, 13: 4.0497295576946195, 14: 7.1798059299743135, 15: 5.426997359290474, 17: 8.37891839653598, 18: 5.256064633158968, 19: 0.8336357004803215, 20: 5.195885573312928}, 17: {0: 4.438576083296614, 1: 6.773268225446028, 2: 5.4197421022314405, 3: 8.602819697324305, 4: 5.018391925646078, 5: 4.25875548178456, 6: 6.76597632586917, 7: 8.342099234596057, 8: 7.782080922994365, 9: 3.8711080834884437, 10: 7.555043797950077, 11: 6.068124815131304, 12: 7.057765064224192, 13: 6.742278294210937, 14: 1.4623872013904924, 15: 3.9174019771408477, 16: 8.37891839653598, 18: 4.2466923451339955, 19: 8.452183054006776, 20: 3.947347400275919}, 18: {0: 0.22355369206733894, 1: 2.9301228498209997, 2: 8.212865914999053, 3: 4.722935603474343, 4: 9.262265171654086, 5: 0.12632389230045665, 6: 9.26562244917774, 7: 4.487760534521728, 8: 3.9277422229200356, 9: 8.114981329496452, 10: 6.588816778016532, 11: 2.2248636138116775, 12: 7.078522588106037, 13: 9.274058235522576, 14: 5.706260447398501, 15: 8.161275223148856, 16: 5.256064633158968, 17: 4.2466923451339955, 19: 4.5964775841697945, 20: 0.33080370782323376}, 19: {0: 4.7529687578582225, 1: 1.9037281099494692, 2: 3.790436982320407, 3: 0.9132820720672871, 4: 5.867013171399248, 5: 4.475459996179143, 6: 4.843193516499095, 7: 0.6605025597924208, 8: 1.1884424312581716, 9: 5.578047683001728, 10: 2.166387845337885, 11: 2.448107217069089, 12: 2.6560936554273904, 13: 4.8516293028439295, 14: 8.009758437003802, 15: 6.256949866319963, 16: 0.8336357004803215, 17: 8.452183054006776, 18: 4.5964775841697945, 20: 4.526628071260388}, 20: {0: 0.5532414369587756, 1: 2.847713242699641, 2: 8.152686855153013, 3: 4.677264714577918, 4: 8.964703662382176, 5: 0.31203470709052905, 6: 9.205443389331702, 7: 4.41654425184967, 8: 3.8565259402479777, 9: 7.817419820224541, 10: 6.528637718170492, 11: 2.142569832384916, 12: 7.018343528259997, 13: 9.213879175676535, 14: 5.408698938126589, 15: 7.863713713876945, 16: 5.195885573312928, 17: 3.947347400275919, 18: 0.33080370782323376, 19: 4.526628071260388}}\n",
            "MSTree:  [(6, 13, 0.027879527371557394), (5, 18, 0.12632389230045665), (0, 18, 0.22355369206733894), (5, 20, 0.31203470709052905), (10, 12, 0.6063290575397319), (7, 19, 0.6605025597924208), (1, 11, 0.7052641236609479), (7, 8, 0.7597059934540087), (3, 16, 0.8296967583501855), (16, 19, 0.8336357004803215), (1, 8, 1.2331300194721782), (10, 16, 1.3874936063298766), (14, 17, 1.4623872013904924), (2, 12, 1.6546355738139948), (2, 9, 1.8458189959598295), (2, 4, 2.106179859601429), (5, 11, 2.1120304729749613), (6, 12, 2.1871882375452043), (9, 15, 2.5510987646549), (9, 14, 2.6719956169267762)]\n",
            "Odd vertexes in MSTree:  [13, 5, 0, 20, 12, 3, 16, 17, 2, 9, 4, 15]\n",
            "Minimum weight matching:  [(6, 13, 0.027879527371557394), (5, 18, 0.12632389230045665), (0, 18, 0.22355369206733894), (5, 20, 0.31203470709052905), (10, 12, 0.6063290575397319), (7, 19, 0.6605025597924208), (1, 11, 0.7052641236609479), (7, 8, 0.7597059934540087), (3, 16, 0.8296967583501855), (16, 19, 0.8336357004803215), (1, 8, 1.2331300194721782), (10, 16, 1.3874936063298766), (14, 17, 1.4623872013904924), (2, 12, 1.6546355738139948), (2, 9, 1.8458189959598295), (2, 4, 2.106179859601429), (5, 11, 2.1120304729749613), (6, 12, 2.1871882375452043), (9, 15, 2.5510987646549), (9, 14, 2.6719956169267762), (3, 16, 0.8296967583501855), (15, 9, 2.5510987646549), (5, 0, 0.3026190996676207), (17, 20, 3.947347400275919), (2, 12, 1.6546355738139948), (13, 4, 4.313419291592976)]\n",
            "Eulerian tour:  [13, 6, 12, 10, 16, 3, 16, 19, 7, 8, 1, 11, 5, 18, 0, 5, 20, 17, 14, 9, 15, 9, 2, 12, 2, 4, 13]\n",
            "Result path:  [13, 6, 12, 10, 16, 3, 19, 7, 8, 1, 11, 5, 18, 20, 17, 14, 9, 15, 2, 4, 13, 13]\n",
            "Result length of the path:  31.68786993359638\n",
            "Time taken 5.521549999999991\n"
          ],
          "name": "stdout"
        }
      ]
    },
    {
      "cell_type": "code",
      "metadata": {
        "id": "QvTqd6UBIe5V",
        "colab_type": "code",
        "colab": {
          "base_uri": "https://localhost:8080/",
          "height": 282
        },
        "outputId": "31809462-3a40-4a70-c653-cd481fb14267"
      },
      "source": [
        "## plot tours on map\n",
        "print(path,len(path))\n",
        "\n",
        "# points\n",
        "fig, ax = plt.subplots()\n",
        "plt.scatter([point_list[i][0] for i in range(len(point_list))],\n",
        "         [point_list[i][1] for i in range(len(point_list))],marker='o')\n",
        "ax.set_aspect(1)\n",
        "plt.xlim(-.5,map_side+.5)\n",
        "plt.ylim(-.5,map_side+.5)\n",
        "\n",
        "# blockades\n",
        "for id,pair in BLOCKADES.items():\n",
        "  plt.plot([pair[0][0],pair[1][0]],[pair[0][1],pair[1][1]],color='red',alpha=0.9,linewidth=3)\n",
        "  pass\n",
        "\n",
        "# tours\n",
        "for i in range(len(path)-1):\n",
        "  start = point_list[path[i]]\n",
        "  end = point_list[path[i+1]]\n",
        "  if start == end: continue\n",
        "  plt.plot([start[0],end[0]],[start[1],end[1]],color='blue', linewidth=5, alpha=0.2) # direct line\n",
        "  dist,mid_path = DIST_LOOKUP[hash_pts(start,end)]\n",
        "  # print('found',hash_pts(start,end),'mid_path',mid_path)\n",
        "  adjusted_V = BLOCKADES_V\n",
        "  adjusted_V[0] = start\n",
        "  adjusted_V[1] = end\n",
        "  for i in range(len(mid_path)-1):\n",
        "    plt.plot([adjusted_V[mid_path[i]][0],adjusted_V[mid_path[i+1]][0]],\n",
        "             [adjusted_V[mid_path[i]][1],adjusted_V[mid_path[i+1]][1]],color='orange',alpha=.7, linewidth=2)\n",
        "plt.grid()\n",
        "plt.show()"
      ],
      "execution_count": 336,
      "outputs": [
        {
          "output_type": "stream",
          "text": [
            "[13, 6, 12, 10, 16, 3, 19, 7, 8, 1, 11, 5, 18, 20, 17, 14, 9, 15, 2, 4, 13, 13] 22\n"
          ],
          "name": "stdout"
        },
        {
          "output_type": "display_data",
          "data": {
            "image/png": "[encoded data removed]",
            "text/plain": [
              "<Figure size 432x288 with 1 Axes>"
            ]
          },
          "metadata": {
            "tags": [],
            "needs_background": "light"
          }
        }
      ]
    },
    {
      "cell_type": "code",
      "metadata": {
        "id": "Ym1b_9i7DXEZ",
        "colab_type": "code",
        "colab": {
          "base_uri": "https://localhost:8080/",
          "height": 282
        },
        "outputId": "2fdf9678-c20d-4e92-a7e0-2f8e610e3d3a"
      },
      "source": [
        "## debug\n",
        "# blockades\n",
        "path, total_dist,v,e = find_path((3.5,5),(1,1),BLOCKADES,BBG)\n",
        "print(path,total_dist[1])\n",
        "\n",
        "## plot\n",
        "for id,pair in BLOCKADES.items():\n",
        "  plt.plot([pair[0][0],pair[1][0]],[pair[0][1],pair[1][1]],color='red',alpha=0.9,linewidth=3)\n",
        "  pass\n",
        "for i in range(len(path)-1):\n",
        "  plt.plot([v[path[i]][0],v[path[i+1]][0]],[v[path[i]][1],v[path[i+1]][1]],color='blue')"
      ],
      "execution_count": 337,
      "outputs": [
        {
          "output_type": "stream",
          "text": [
            "[0, 17, 1] 6.9427386818914725\n"
          ],
          "name": "stdout"
        },
        {
          "output_type": "display_data",
          "data": {
            "image/png": "[encoded data removed]",
            "text/plain": [
              "<Figure size 432x288 with 1 Axes>"
            ]
          },
          "metadata": {
            "tags": [],
            "needs_background": "light"
          }
        }
      ]
    }
  ]
}